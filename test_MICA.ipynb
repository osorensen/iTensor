{
 "cells": [
  {
   "cell_type": "markdown",
   "metadata": {},
   "source": [
    "# Test code of MICA Function"
   ]
  },
  {
   "cell_type": "markdown",
   "metadata": {},
   "source": [
    "## Dependent Packages Installation"
   ]
  },
  {
   "cell_type": "code",
   "execution_count": null,
   "metadata": {},
   "outputs": [],
   "source": []
  },
  {
   "cell_type": "markdown",
   "metadata": {},
   "source": [
    "## MICA Function (Paste your MICA code here)"
   ]
  },
  {
   "cell_type": "code",
   "execution_count": null,
   "metadata": {},
   "outputs": [],
   "source": [
    "MICA <- function(X, Y, J, eta=1E-10,\n",
    "\tnum.iter=30, thr=1E-10, verbose=FALSE){\n",
    "    ######################################\n",
    "    # Argument Check\n",
    "    ######################################\n",
    "    .checkMICA(X, Y, J, eta, num.iter, thr, verbose)\n",
    "    ######################################\n",
    "    # Initialization (e.g. CCA)\n",
    "    ######################################\n",
    "    int <- .initMICA(X, Y, J)\n",
    "    U <- int$U\n",
    "    V <- int$V\n",
    "    A <- int$A\n",
    "    B <- int$B\n",
    "    RecError <- int$RecError\n",
    "    RelChange <- int$RelChange\n",
    "    ######################################\n",
    "    # Iteration\n",
    "    ######################################\n",
    "    iter <- 1\n",
    "    while ((RelChange[iter] > thr) && (iter <= num.iter)) {\n",
    "    \tA <- A - eta * .gradA(U, V, A, B, J) # SGD\n",
    "    \tB <- B - eta * .gradB(U, V, A, B, J) # SGD\n",
    "    \tU <- X %*% ginv(A)\n",
    "    \tV <- Y %*% ginv(B)\n",
    "        # After Update\n",
    "        X_bar <- U %*% A\n",
    "        Y_bar <- V %*% B\n",
    "        iter <- iter + 1\n",
    "        RecError[iter] <- .recError(X, X_bar) + .recError(Y, Y_bar)\n",
    "        RelChange[iter] <- .relChange(iter, RecError)\n",
    "        # Verbose\n",
    "        if(verbose){\n",
    "             cat(paste0(iter, \" / \", num.iter,\n",
    "                \" |Previous Error - Error| / Error = \",\n",
    "                RelChange[iter], \"\\n\"))\n",
    "        }\n",
    "    }\n",
    "    # Output\n",
    "\tnames(RecError) <- c(\"offset\", 1:(iter - 1))\n",
    "    names(RelChange) <- c(\"offset\", 1:(iter - 1))\n",
    "\t# Output\n",
    "    list(U=U, V=V, A=A, B=B, J=J, eta=eta, num.iter=num.iter,\n",
    "    thr=thr, verbose=verbose, RecError=RecError, RelChange=RelChange)\n",
    "}\n",
    "\n",
    ".checkICA <- function(X, Y, J, eta, num.iter, thr, verbose){\n",
    "\tstopifnot(is.matrix(X))\n",
    "\tstopifnot(is.matrix(Y))\n",
    "\tstopifnot(nrow(X) == ncol(Y))\n",
    "\tstopifnot(is.numeric(J))\n",
    "\tstopifnot(length(J) == 1)\n",
    "\tstopifnot(is.numeric(eta))\n",
    "\tstopifnot(length(eta) == 1)\n",
    "\tstopifnot(min(ncol(X), ncol(Y)) >= J)\n",
    "\tstopifnot(is.numeric(num.iter))\n",
    "\tstopifnot(num.iter > 0)\n",
    "\tstopifnot(is.numeric(thr))\n",
    "\tstopifnot(is.logical(verbose))\n",
    "}\n",
    "\n",
    ".initICA <- function(X, Y, J){\n",
    "\t# CCA\n",
    "\tres.cca <- .CCA(X, Y, J)\n",
    "\tU <- res.cca$Xscore\n",
    "\tV <- res.cca$Yscore\n",
    "\tA <- res.cca$XLoading\n",
    "\tB <- res.cca$YLoading\n",
    "\tX_bar <- X %*% ginv(A)\n",
    "\tY_bar <- Y %*% ginv(B)\n",
    "\t# Reconstruction Error\n",
    "\tRecError <- .recError(X, X_bar) + .recError(Y, Y_bar)\n",
    "\t# Relative Change\n",
    "\tRelChange <- thr * 10\n",
    "\tlist(U=U, V=V, A=A, B=B,\n",
    "\t\tRecError=RecError, RelChange=RelChange)\n",
    "}\n",
    "\n",
    ".CCA <- function(X, Y, J){\n",
    "   ...\n",
    "}"
   ]
  },
  {
   "cell_type": "markdown",
   "metadata": {},
   "source": [
    "## Simulation Datasets"
   ]
  },
  {
   "cell_type": "code",
   "execution_count": null,
   "metadata": {},
   "outputs": [],
   "source": [
    "X <- array(runif(10*15), dim=c(10,15))\n",
    "Y <- array(runif(10*20), dim=c(10,20))"
   ]
  },
  {
   "cell_type": "markdown",
   "metadata": {},
   "source": [
    "## Perform ICA against Simulation Datasets"
   ]
  },
  {
   "cell_type": "code",
   "execution_count": null,
   "metadata": {},
   "outputs": [],
   "source": [
    "J <- 5\n",
    "out.MICA <- MICA(X, Y, J=J)"
   ]
  },
  {
   "cell_type": "markdown",
   "metadata": {},
   "source": [
    "## Test Input object / type"
   ]
  },
  {
   "cell_type": "markdown",
   "metadata": {},
   "source": [
    "### Test I-1: Object Names"
   ]
  },
  {
   "cell_type": "code",
   "execution_count": null,
   "metadata": {},
   "outputs": [],
   "source": [
    "expect_identical(names(formals(ICA)), c(\"X\", \"Y\", \"J\", \"eta\", \"num.iter\", \"thr\", \"verbose\"))"
   ]
  },
  {
   "cell_type": "markdown",
   "metadata": {},
   "source": [
    "### Test I-2: X"
   ]
  },
  {
   "cell_type": "code",
   "execution_count": null,
   "metadata": {},
   "outputs": [],
   "source": [
    "expect_identical(as.character(formals(ICA)$X), \"\")"
   ]
  },
  {
   "cell_type": "markdown",
   "metadata": {},
   "source": [
    "### Test I-3: Y"
   ]
  },
  {
   "cell_type": "code",
   "execution_count": null,
   "metadata": {},
   "outputs": [],
   "source": [
    "expect_identical(as.character(formals(ICA)$Y), \"\")"
   ]
  },
  {
   "cell_type": "markdown",
   "metadata": {},
   "source": [
    "### Test I-4: J"
   ]
  },
  {
   "cell_type": "code",
   "execution_count": null,
   "metadata": {},
   "outputs": [],
   "source": [
    "expect_identical(as.character(formals(ICA)$J), \"\")"
   ]
  },
  {
   "cell_type": "markdown",
   "metadata": {},
   "source": [
    "### Test I-5: eta"
   ]
  },
  {
   "cell_type": "code",
   "execution_count": null,
   "metadata": {},
   "outputs": [],
   "source": [
    "expect_identical(as.character(formals(ICA)$eta), 1E-10)"
   ]
  },
  {
   "cell_type": "markdown",
   "metadata": {},
   "source": [
    "### Test I-6: num.iter"
   ]
  },
  {
   "cell_type": "code",
   "execution_count": null,
   "metadata": {},
   "outputs": [],
   "source": [
    "expect_identical(as.character(formals(ICA)$num.iter), 30)"
   ]
  },
  {
   "cell_type": "markdown",
   "metadata": {},
   "source": [
    "### Test I-7: thr"
   ]
  },
  {
   "cell_type": "code",
   "execution_count": null,
   "metadata": {},
   "outputs": [],
   "source": [
    "expect_identical(as.character(formals(ICA)$thr), 1E-10)"
   ]
  },
  {
   "cell_type": "markdown",
   "metadata": {},
   "source": [
    "### Test I-8: verbose"
   ]
  },
  {
   "cell_type": "code",
   "execution_count": null,
   "metadata": {},
   "outputs": [],
   "source": [
    "expect_identical(as.character(formals(ICA)$verbose), FALSE)"
   ]
  },
  {
   "cell_type": "markdown",
   "metadata": {},
   "source": [
    "## Test Output object / type"
   ]
  },
  {
   "cell_type": "markdown",
   "metadata": {},
   "source": [
    "### Test O-1: Object"
   ]
  },
  {
   "cell_type": "code",
   "execution_count": null,
   "metadata": {},
   "outputs": [],
   "source": [
    "expect_identical(is.list(out.MICA), TRUE)"
   ]
  },
  {
   "cell_type": "markdown",
   "metadata": {},
   "source": [
    "### Test O-2: Object Names"
   ]
  },
  {
   "cell_type": "code",
   "execution_count": null,
   "metadata": {},
   "outputs": [],
   "source": [
    "expect_identical(names(out.MICA), c(\"U\", \"V\", \"A\", \"B\", \"J\", \"eta\",\n",
    "\t\"num.iter\", \"thr\", \"verbose\", \"RecError\", \"RelChange\"))"
   ]
  },
  {
   "cell_type": "markdown",
   "metadata": {},
   "source": [
    "### Test 0-3: U"
   ]
  },
  {
   "cell_type": "code",
   "execution_count": null,
   "metadata": {},
   "outputs": [],
   "source": [
    "expect_identical(is.matrix(out.MICA$U), TRUE)\n",
    "expect_identical(dim(out.MICA$U), c(nrow(X), J))"
   ]
  },
  {
   "cell_type": "markdown",
   "metadata": {},
   "source": [
    "### Test 0-4: V"
   ]
  },
  {
   "cell_type": "code",
   "execution_count": null,
   "metadata": {},
   "outputs": [],
   "source": [
    "expect_identical(is.matrix(out.MICA$V), TRUE)\n",
    "expect_identical(dim(out.MICA$V), c(nrow(Y), J))"
   ]
  },
  {
   "cell_type": "markdown",
   "metadata": {},
   "source": [
    "### Test 0-5: A"
   ]
  },
  {
   "cell_type": "code",
   "execution_count": null,
   "metadata": {},
   "outputs": [],
   "source": [
    "expect_identical(is.matrix(out.MICA$A), TRUE)\n",
    "expect_identical(dim(out.MICA$A), c(ncol(X), J))"
   ]
  },
  {
   "cell_type": "markdown",
   "metadata": {},
   "source": [
    "### Test 0-6: B"
   ]
  },
  {
   "cell_type": "code",
   "execution_count": null,
   "metadata": {},
   "outputs": [],
   "source": [
    "expect_identical(is.matrix(out.MICA$V), TRUE)\n",
    "expect_identical(dim(out.MICA$V), c(ncol(Y), J))"
   ]
  },
  {
   "cell_type": "markdown",
   "metadata": {},
   "source": [
    "### Test 0-7: J"
   ]
  },
  {
   "cell_type": "code",
   "execution_count": null,
   "metadata": {},
   "outputs": [],
   "source": [
    "expect_identical(out.MICA$J, J)"
   ]
  },
  {
   "cell_type": "markdown",
   "metadata": {},
   "source": [
    "### Test 0-8: eta"
   ]
  },
  {
   "cell_type": "code",
   "execution_count": null,
   "metadata": {},
   "outputs": [],
   "source": [
    "expect_identical(out.MICA$eta, eta)"
   ]
  },
  {
   "cell_type": "markdown",
   "metadata": {},
   "source": [
    "### Test 0-9: num.iter"
   ]
  },
  {
   "cell_type": "code",
   "execution_count": null,
   "metadata": {},
   "outputs": [],
   "source": [
    "expect_identical(out.MICA$num.iter, formals(ICA)$num.iter)"
   ]
  },
  {
   "cell_type": "markdown",
   "metadata": {},
   "source": [
    "### Test 0-10: thr"
   ]
  },
  {
   "cell_type": "code",
   "execution_count": null,
   "metadata": {},
   "outputs": [],
   "source": [
    "expect_identical(out.MICA$thr, formals(ICA)$thr)"
   ]
  },
  {
   "cell_type": "markdown",
   "metadata": {},
   "source": [
    "### Test 0-11: verbose"
   ]
  },
  {
   "cell_type": "code",
   "execution_count": null,
   "metadata": {},
   "outputs": [],
   "source": [
    "expect_identical(out.MICA$verbose, formals(ICA)$verbose)"
   ]
  },
  {
   "cell_type": "markdown",
   "metadata": {},
   "source": [
    "### Test 0-12: RecError"
   ]
  },
  {
   "cell_type": "code",
   "execution_count": null,
   "metadata": {},
   "outputs": [],
   "source": [
    "expect_identical(is.vector(out.MICA$RecError), TRUE)"
   ]
  },
  {
   "cell_type": "markdown",
   "metadata": {},
   "source": [
    "### Test 0-13: RelChange"
   ]
  },
  {
   "cell_type": "code",
   "execution_count": null,
   "metadata": {},
   "outputs": [],
   "source": [
    "expect_identical(is.vector(out.MICA$RelChange), TRUE)"
   ]
  },
  {
   "cell_type": "markdown",
   "metadata": {},
   "source": [
    "## Test Error"
   ]
  },
  {
   "cell_type": "markdown",
   "metadata": {},
   "source": [
    "### Test E-1: X"
   ]
  },
  {
   "cell_type": "code",
   "execution_count": null,
   "metadata": {},
   "outputs": [],
   "source": [
    "expect_error(ICA(X, J=J))\n",
    "expect_error(ICA(Y, J=J))\n",
    "expect_error(ICA(as.data.frame(X), Y, J=J))\n",
    "expect_error(ICA(X, as.data.frame(Y), J=J))"
   ]
  },
  {
   "cell_type": "markdown",
   "metadata": {},
   "source": [
    "### Test E-2: J"
   ]
  },
  {
   "cell_type": "code",
   "execution_count": null,
   "metadata": {},
   "outputs": [],
   "source": [
    "expect_error(ICA(X, Y, J=\"5\"))\n",
    "expect_error(ICA(X, Y, J=c(2,4)))\n",
    "expect_error(ICA(X, Y, J=10^10)"
   ]
  },
  {
   "cell_type": "markdown",
   "metadata": {},
   "source": [
    "### Test E-3: eta"
   ]
  },
  {
   "cell_type": "code",
   "execution_count": null,
   "metadata": {},
   "outputs": [],
   "source": [
    "expect_error(ICA(X, Y, eta=\"5\"))\n",
    "expect_error(ICA(X, Y, eta=c(2,4)))\n",
    "expect_error(ICA(X, Y, eta=10^10)"
   ]
  },
  {
   "cell_type": "markdown",
   "metadata": {},
   "source": [
    "### Test E-4: num.iter"
   ]
  },
  {
   "cell_type": "code",
   "execution_count": null,
   "metadata": {},
   "outputs": [],
   "source": [
    "expect_error(ICA(X, J=J, num.iter=\"100\"))\n",
    "expect_error(ICA(X, J=J, num.iter=-1))"
   ]
  },
  {
   "cell_type": "markdown",
   "metadata": {},
   "source": [
    "### Test E-5: thr"
   ]
  },
  {
   "cell_type": "code",
   "execution_count": null,
   "metadata": {},
   "outputs": [],
   "source": [
    "expect_error(ICA(X, J=J, thr=\"0.1\"))"
   ]
  },
  {
   "cell_type": "markdown",
   "metadata": {},
   "source": [
    "### Test E-6: verbose"
   ]
  },
  {
   "cell_type": "code",
   "execution_count": null,
   "metadata": {},
   "outputs": [],
   "source": [
    "expect_error(ICA(X, J=J, verbose=\"verbose\"))"
   ]
  },
  {
   "cell_type": "markdown",
   "metadata": {},
   "source": [
    "## Test Decrease of Error"
   ]
  },
  {
   "cell_type": "markdown",
   "metadata": {},
   "source": [
    "### Test D-1: RecError"
   ]
  },
  {
   "cell_type": "code",
   "execution_count": null,
   "metadata": {},
   "outputs": [],
   "source": [
    ".sampleRank <- function(x){\n",
    "\trank(c(x[2], median(x), rev(x)[1]))\n",
    "}\n",
    "\n",
    "expect_identical(.sampleRank(out.MICA$RecError), 3:1)"
   ]
  },
  {
   "cell_type": "markdown",
   "metadata": {},
   "source": [
    "### Test D-2: RelChange"
   ]
  },
  {
   "cell_type": "code",
   "execution_count": null,
   "metadata": {},
   "outputs": [],
   "source": [
    "expect_identical(.sampleRank(out.MICA$RelChange), 3:1)"
   ]
  },
  {
   "cell_type": "markdown",
   "metadata": {},
   "source": [
    "## Session Information"
   ]
  },
  {
   "cell_type": "code",
   "execution_count": null,
   "metadata": {},
   "outputs": [],
   "source": [
    "sessionInfo()"
   ]
  }
 ],
 "metadata": {
  "kernelspec": {
   "display_name": "R",
   "language": "R",
   "name": "ir"
  },
  "language_info": {
   "name": ""
  }
 },
 "nbformat": 4,
 "nbformat_minor": 4
}
