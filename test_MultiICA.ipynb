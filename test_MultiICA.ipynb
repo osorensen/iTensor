{
 "cells": [
  {
   "cell_type": "markdown",
   "metadata": {},
   "source": [
    "# Test code of MultiICA Function"
   ]
  },
  {
   "cell_type": "markdown",
   "metadata": {},
   "source": [
    "## Dependent Packages Installation"
   ]
  },
  {
   "cell_type": "code",
   "execution_count": null,
   "metadata": {},
   "outputs": [],
   "source": [
    "if (!requireNamespace(\"testthat\", quietly = TRUE)){\n",
    "    install.packages(\"testthat\")\n",
    "}\n",
    "if (!requireNamespace(\"rTensor\", quietly = TRUE)){\n",
    "    install.packages(\"rTensor\")\n",
    "}\n",
    "if (!requireNamespace(\"nnTensor\", quietly = TRUE)){\n",
    "    install.packages(\"nnTensor\")\n",
    "}\n",
    "library(\"testthat\")\n",
    "library(\"rTensor\")\n",
    "library(\"nnTensor\")"
   ]
  },
  {
   "cell_type": "markdown",
   "metadata": {},
   "source": [
    "## MultiICA Function (Paste your MultiICA code here)"
   ]
  },
  {
   "cell_type": "code",
   "execution_count": null,
   "metadata": {},
   "outputs": [],
   "source": [
    "MultiICA <- function(X, J=NULL, modes=1:3, algorithm=c(\"FastICA\", \"InfoMax\", \"ExtInfoMax\")){\n",
    "    ######################################\n",
    "    # Argument Check\n",
    "    ######################################\n",
    "    .checkMultiICA(X, J, modes)\n",
    "    algorithm <- <- match.arg(algorithm)\n",
    "    ######################################\n",
    "    # Initialization\n",
    "    ######################################\n",
    "    int <- .initMultiICA(X, J, modes)\n",
    "    X <- int$X\n",
    "    A <- int$A\n",
    "    S <- int$S\n",
    "    RecError <- int$RecError\n",
    "    for(m in modes){\n",
    "        Xm <- unfold(X, m=m)\n",
    "        A[m] <- ICA(X=Xm, J=J[m], algorithm=algorithm)$A\n",
    "    }\n",
    "    # After Update\n",
    "    S <- .Projection(X, A, ms=modes)\n",
    "    X_bar <- ttl(S, A, ms=modes)\n",
    "    RecError <- .recError(X, X_bar)\n",
    "\t# Output\n",
    "    list(A=A, S=S, J=J, algorithm=algorithm, RecError=RecError)\n",
    "}\n",
    "\n",
    ".ndim <- function(X){\n",
    "    length(dim(X))\n",
    "}\n",
    "\n",
    ".checkMultiICA <- function(X, J, modes){\n",
    "    stopifnot(is.array(X))\n",
    "    stopifnot(is.vector(J))\n",
    "    stopifnot(.ndim(X) == length(J))\n",
    "    lapply(seq_along(J), function(i){\n",
    "        stopifnot(dim(X)[i] >= J[i])\n",
    "    })\n",
    "    stopifnot(all(1 <= modes))\n",
    "    stopifnot(all(.ndim(X) >= modes))\n",
    "    stopifnot(all(.ndim(X) >= length(modes)))\n",
    "}\n",
    "\n",
    ".initMultiICA <- function(X, J, modes){\n",
    "\t# A\n",
    "\tnrs <- dim(X)\n",
    "\tA <- lapply(seq_along(nrs), function(x){\n",
    "        matrix(runif(nrs[x]*J[x]), nrow=nrs[x], ncol=J[x])\n",
    "    })\n",
    "    # S\n",
    "\tS <- .Projection(X,  A, ms=modes)\n",
    "\tlist(X=X, A=A, S=S)\n",
    "}\n",
    "\n",
    ".Projection <- function(X, A, ms=modes){\n",
    "    # XにginvしたAnをかける\n",
    "    ...\n",
    "}"
   ]
  },
  {
   "cell_type": "markdown",
   "metadata": {},
   "source": [
    "## Simulation Datasets"
   ]
  },
  {
   "cell_type": "code",
   "execution_count": null,
   "metadata": {},
   "outputs": [],
   "source": [
    "X <- array(runif(10*20*30), dim=c(10,20,30))"
   ]
  },
  {
   "cell_type": "markdown",
   "metadata": {},
   "source": [
    "## Perform MultiICA against Simulation Datasets"
   ]
  },
  {
   "cell_type": "code",
   "execution_count": null,
   "metadata": {},
   "outputs": [],
   "source": [
    "J <- c(3,4,5)\n",
    "out.FastICA <- MultiICAICA(X, J=J, algorithm=\"FastICA\")\n",
    "out.InfoMax <- MultiICAICA(X, J=J, algorithm=\"InfoMax\")\n",
    "out.ExtInfoMax <- MultiICAICA(X, J=J, algorithm=\"ExtInfoMax\")"
   ]
  },
  {
   "cell_type": "markdown",
   "metadata": {},
   "source": [
    "## Test Input object / type"
   ]
  },
  {
   "cell_type": "markdown",
   "metadata": {},
   "source": [
    "### Test I-1: Object Names"
   ]
  },
  {
   "cell_type": "code",
   "execution_count": null,
   "metadata": {},
   "outputs": [],
   "source": [
    "expect_identical(names(formals(MultiICAICA)), c(\"X\", \"J\", \"modes\", \"algorithm\"))"
   ]
  },
  {
   "cell_type": "markdown",
   "metadata": {},
   "source": [
    "### Test I-2: X"
   ]
  },
  {
   "cell_type": "code",
   "execution_count": null,
   "metadata": {},
   "outputs": [],
   "source": [
    "expect_identical(as.character(formals(ICA)$X), \"\")"
   ]
  },
  {
   "cell_type": "markdown",
   "metadata": {},
   "source": [
    "### Test I-3: J"
   ]
  },
  {
   "cell_type": "code",
   "execution_count": null,
   "metadata": {},
   "outputs": [],
   "source": [
    "expect_identical(as.character(formals(ICA)$J), \"\")"
   ]
  },
  {
   "cell_type": "markdown",
   "metadata": {},
   "source": [
    "### Test I-4: modes"
   ]
  },
  {
   "cell_type": "code",
   "execution_count": null,
   "metadata": {},
   "outputs": [],
   "source": [
    "expect_identical(as.character(formals(ICA)$modes), 1:3)"
   ]
  },
  {
   "cell_type": "markdown",
   "metadata": {},
   "source": [
    "### Test I-5: algorithm"
   ]
  },
  {
   "cell_type": "code",
   "execution_count": null,
   "metadata": {},
   "outputs": [],
   "source": [
    "expect_identical(as.character(formals(ICA)$algorithm), c(\"FastICA\", \"InfoMax\", \"ExtInfoMax\"))"
   ]
  },
  {
   "cell_type": "code",
   "execution_count": null,
   "metadata": {},
   "outputs": [],
   "source": []
  }
 ],
 "metadata": {
  "kernelspec": {
   "display_name": "R",
   "language": "R",
   "name": "ir"
  },
  "language_info": {
   "name": ""
  }
 },
 "nbformat": 4,
 "nbformat_minor": 4
}
